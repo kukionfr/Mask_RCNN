{
 "cells": [
  {
   "cell_type": "code",
   "execution_count": 4,
   "metadata": {
    "collapsed": true,
    "pycharm": {
     "name": "#%%\n"
    }
   },
   "outputs": [],
   "source": [
    "import os\n",
    "import sys\n",
    "import random\n",
    "import math\n",
    "import re\n",
    "import time\n",
    "import numpy as np\n",
    "import cv2\n",
    "import matplotlib\n",
    "import matplotlib.pyplot as plt\n",
    "import pathlib\n",
    "import skimage\n",
    "from PIL import Image\n",
    "import imgaug\n",
    "from imgaug import augmenters as iaa\n",
    "from skimage.filters import threshold_otsu\n",
    "ROOT_DIR = os.path.abspath(\"../\")\n",
    "sys.path.append(ROOT_DIR)  # To find local version of the library\n",
    "from mrcnn.config import Config\n",
    "from mrcnn import utils\n",
    "import mrcnn.model as modellib\n",
    "from mrcnn import visualize\n",
    "from mrcnn.model import log\n",
    "MODEL_DIR = os.path.join(ROOT_DIR, \"logs\")\n",
    "COCO_MODEL_PATH = os.path.join(ROOT_DIR, \"mask_rcnn_coco.h5\")"
   ]
  },
  {
   "cell_type": "code",
   "execution_count": 6,
   "outputs": [
    {
     "ename": "IndentationError",
     "evalue": "unindent does not match any outer indentation level (<tokenize>, line 43)",
     "output_type": "error",
     "traceback": [
      "\u001B[1;36m  File \u001B[1;32m\"<tokenize>\"\u001B[1;36m, line \u001B[1;32m43\u001B[0m\n\u001B[1;33m    def load_image(self, image_id):\u001B[0m\n\u001B[1;37m    ^\u001B[0m\n\u001B[1;31mIndentationError\u001B[0m\u001B[1;31m:\u001B[0m unindent does not match any outer indentation level\n"
     ]
    }
   ],
   "source": [
    "# minimum input size = 128\n",
    "class ShapesConfig(Config):\n",
    "    # Give the configuration a recognizable name\n",
    "    NAME = \"skinsam\"\n",
    "    GPU_COUNT = 1\n",
    "    IMAGES_PER_GPU = 16\n",
    "    NUM_CLASSES = 1 + 2  # background + 2 types\n",
    "    IMAGE_MIN_DIM = 128\n",
    "    IMAGE_MAX_DIM = 128\n",
    "    RPN_ANCHOR_SCALES = (16,32,64,128,256)  # anchor side in pixels\n",
    "    TRAIN_ROIS_PER_IMAGE = 8\n",
    "    STEPS_PER_EPOCH = 6864 // IMAGES_PER_GPU\n",
    "    VALIDATION_STEPS = 919 // IMAGES_PER_GPU\n",
    "    LEARNING_RATE = 0.001\n",
    "    USE_MINI_MASK = False\n",
    "    # gpu_options = True\n",
    "config = ShapesConfig()\n",
    "def get_ax(rows=1, cols=1, size=8):\n",
    "    _, ax = plt.subplots(rows, cols, figsize=(size*cols, size*rows))\n",
    "    return ax\n",
    "\n",
    "class ShapesDataset(utils.Dataset):\n",
    "     def list_images(self,data_dir):\n",
    "        # define classes\n",
    "        self.add_class(\"skin\", 1, \"fibroblast\")\n",
    "        self.add_class(\"skin\", 2, \"falsePositive\")\n",
    "\n",
    "        train_images = list(data_dir.glob('*tile*/image/*.png'))\n",
    "        print('# image in this dataset : ',len(train_images))\n",
    "        for idx,train_image in enumerate(train_images):\n",
    "            label = str(train_image).replace(\"image\",\"mask\")\n",
    "            self.add_image(\"skin\",image_id=idx,path=train_image,labelpath=label,\n",
    "                           height=config.IMAGE_SHAPE[0],width=config.IMAGE_SHAPE[1])\n",
    "\n",
    "        train_images = list(data_dir.glob('*false_positive*/image/*.png'))\n",
    "        print('# image in this dataset : ',len(train_images))\n",
    "        for idxx,train_image in enumerate(train_images):\n",
    "            label = str(train_image).replace(\"image\",\"mask\")\n",
    "            self.add_image(\"skin\",image_id=idx+idxx,path=train_image,labelpath=label,\n",
    "                           height=config.IMAGE_SHAPE[0],width=config.IMAGE_SHAPE[1])\n",
    "\n",
    "\n",
    "    def load_image(self, image_id):\n",
    "        \"\"\"Load the specified image and return a [H,W,3] Numpy array.\n",
    "        \"\"\"\n",
    "        # Load image\n",
    "        image = skimage.io.imread(self.image_info[image_id]['path'])\n",
    "        # If grayscale. Convert to RGB for consistency.\n",
    "        if image.ndim != 3:\n",
    "            print('grayscale to rgb')\n",
    "            image = skimage.color.gray2rgb(image)\n",
    "        # If has an alpha channel, remove it for consistency\n",
    "        if image.shape[-1] == 4:\n",
    "            print('rgba to rgb')\n",
    "            image = image[..., :3]\n",
    "        # image = cv2.resize(image,dsize=(256,256))\n",
    "        return image.astype(np.uint8)\n",
    "\n",
    "    def load_mask(self, image_id):\n",
    "        label = self.image_info[image_id]['labelpath']\n",
    "        mask = Image.open(label)\n",
    "        mask = np.array(mask).astype('int')\n",
    "        mask = mask[:,:,np.newaxis]\n",
    "        if 'false_positive' in label:\n",
    "            class_ids = np.array([2])\n",
    "        else:\n",
    "            class_ids = np.array([1])\n",
    "        return mask,class_ids\n",
    "\n",
    "\n",
    "    def image_reference(self, image_id):\n",
    "        \"\"\"Return the shapes data of the image.\"\"\"\n",
    "        info = self.image_info[image_id]\n",
    "        if info[\"source\"] == \"skin\":\n",
    "            return info[\"truth\"]\n",
    "        else:\n",
    "            super(self.__class__).image_reference(self, image_id)"
   ],
   "metadata": {
    "collapsed": false,
    "pycharm": {
     "name": "#%%\n"
    }
   }
  },
  {
   "cell_type": "code",
   "execution_count": null,
   "outputs": [],
   "source": [
    "class InferenceConfig(ShapesConfig):\n",
    "    GPU_COUNT = 1\n",
    "    IMAGES_PER_GPU = 1\n",
    "    IMAGE_MAX_DIM = 128\n",
    "inference_config = InferenceConfig()"
   ],
   "metadata": {
    "collapsed": false,
    "pycharm": {
     "name": "#%%\n"
    }
   }
  },
  {
   "cell_type": "code",
   "execution_count": null,
   "outputs": [],
   "source": [
    "# Recreate the model in inference mode\n",
    "model = modellib.MaskRCNN(mode=\"inference\",\n",
    "                          config=inference_config,\n",
    "                          model_dir=MODEL_DIR)\n",
    "\n",
    "# Get path to saved weights\n",
    "# Either set a specific path or find last trained weights\n",
    "# model_path = os.path.join(ROOT_DIR, \".h5 file name here\")\n",
    "model_path = model.find_last()\n",
    "\n",
    "# Load trained weights\n",
    "print(\"Loading weights from \", model_path)\n",
    "model.load_weights(model_path, by_name=True)\n"
   ],
   "metadata": {
    "collapsed": false,
    "pycharm": {
     "name": "#%%\n"
    }
   }
  },
  {
   "cell_type": "code",
   "execution_count": null,
   "outputs": [],
   "source": [
    "from PIL import Image\n",
    "from skimage import io\n",
    "\n",
    "## put folder path here to apply your model to classify\n",
    "src = r'\\\\kukissd\\Kyu_Sync\\Aging\\data\\svs\\20x\\segmentation\\Wirtz.Denis_OTS-19_5021-003_false_positive_4\\image'\n",
    "##\n",
    "dst = os.path.join(src,'classified')\n",
    "if not os.path.exists(dst): os.mkdir(dst)\n",
    "\n",
    "images = [os.path.join(src,_) for _ in os.listdir(src) if _.endswith('png')]\n",
    "idd = []\n",
    "for original_image in images:\n",
    "    original_image2 = skimage.io.imread(original_image)\n",
    "    results = model.detect([original_image2], verbose=1)\n",
    "    r = results[0]\n",
    "    masks = r['masks']\n",
    "    masks = np.moveaxis(masks,2,0)\n",
    "    if len(masks)<1:\n",
    "        continue\n",
    "    maskzero=np.zeros(masks[0].shape)\n",
    "    for mask,id in zip(masks,r['class_ids']):\n",
    "        idd.append(id)\n",
    "        maskzero[mask]=id\n",
    "    im = Image.fromarray(maskzero)\n",
    "    im.save(os.path.join(dst, os.path.basename(original_image).replace('png','tif')))\n",
    "print(idd)"
   ],
   "metadata": {
    "collapsed": false,
    "pycharm": {
     "name": "#%%\n"
    }
   }
  }
 ],
 "metadata": {
  "kernelspec": {
   "display_name": "Python 3",
   "language": "python",
   "name": "python3"
  },
  "language_info": {
   "codemirror_mode": {
    "name": "ipython",
    "version": 2
   },
   "file_extension": ".py",
   "mimetype": "text/x-python",
   "name": "python",
   "nbconvert_exporter": "python",
   "pygments_lexer": "ipython2",
   "version": "2.7.6"
  }
 },
 "nbformat": 4,
 "nbformat_minor": 0
}