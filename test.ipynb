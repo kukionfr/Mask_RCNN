{
 "cells": [
  {
   "cell_type": "code",
   "execution_count": 4,
   "metadata": {
    "collapsed": true
   },
   "outputs": [
    {
     "name": "stdout",
     "output_type": "stream",
     "text": [
      "[0, 1, 2]\n"
     ]
    }
   ],
   "source": [
    "print(list(range(3)))\n",
    "import skimage.io\n",
    "import numpy as np\n",
    "image = skimage.io.imread(r'C:\\Users\\kuki\\Desktop\\Research\\Skin\\RCNN data\\RCNNtrain\\old\\sec031\\label\\1.jpg')\n",
    "mask = np.zeros([101,101,3], dtype=np.uint8)\n",
    "for i in range(3):\n",
    "    ll = mask[:, :, i:i+1]"
   ]
  }
 ],
 "metadata": {
  "kernelspec": {
   "display_name": "Python 3",
   "language": "python",
   "name": "python3"
  },
  "language_info": {
   "codemirror_mode": {
    "name": "ipython",
    "version": 2
   },
   "file_extension": ".py",
   "mimetype": "text/x-python",
   "name": "python",
   "nbconvert_exporter": "python",
   "pygments_lexer": "ipython2",
   "version": "2.7.6"
  }
 },
 "nbformat": 4,
 "nbformat_minor": 0
}