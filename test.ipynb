{
 "cells": [
  {
   "cell_type": "code",
   "execution_count": 14,
   "outputs": [],
   "source": [
    "import skimage\n",
    "from skimage import io,morphology,measure\n",
    "import os\n",
    "import numpy as np\n",
    "\n",
    "srcs = ['/home/kuki/Desktop/novo/active_set/Train/ANN','/home/kuki/Desktop/novo/active_set/Valid/ANN']\n",
    "for src in srcs[0:1]:\n",
    "    labels = [os.path.join(src,_) for _ in os.listdir(src) if _.endswith('.tif')]\n",
    "    for label in labels:\n",
    "        mask = skimage.io.imread(label)\n",
    "        # mask = cv2.resize(mask,dsize=(256,256))\n",
    "        # convert 2D greyscale mask where unique pixel values represent different tissue types\n",
    "        # into 3D boolean mask where each channel is a tissue type\n",
    "        mask_layers = np.empty((len(np.unique(mask)),)+mask.shape)\n",
    "        class_ids = []\n",
    "        connected_region_layers = np.empty(mask.shape+(1,))\n",
    "        classes = [_ for _ in np.unique(mask) if _ != 0]\n",
    "        for class_id in classes:\n",
    "            mask_layer_closed = skimage.morphology.area_closing(mask==class_id)\n",
    "            mask_layer_opened = skimage.morphology.area_opening(mask_layer_closed)\n",
    "            labeled_mask_layer = skimage.measure.label(mask_layer_opened, background=0)\n",
    "            # iterate different connected regions\n",
    "            regions = [_ for _ in np.unique(labeled_mask_layer) if _ != 0]\n",
    "            for region in regions:\n",
    "                connected_region_layer = labeled_mask_layer==region\n",
    "                connected_region_layers = np.dstack(\n",
    "                    (connected_region_layers,connected_region_layer))\n",
    "                class_ids.append(class_id)\n",
    "        connected_region_layers = connected_region_layers[:,:,1:]\n",
    "        class_ids = np.array(class_ids)\n",
    "        dst = label.replace('ANN','ANN_stack')\n",
    "        dst1 = dst.replace('.tif','_mask.npy')\n",
    "        dst2 = dst.replace('.tif','_ids.npy')\n",
    "        np.save(dst1,connected_region_layers.astype(np.bool))\n",
    "        np.save(dst2,class_ids.astype(np.int32))"
   ],
   "metadata": {
    "collapsed": false,
    "pycharm": {
     "name": "#%%\n"
    }
   }
  },
  {
   "cell_type": "code",
   "execution_count": 15,
   "outputs": [
    {
     "ename": "FileNotFoundError",
     "evalue": "[Errno 2] No such file or directory: '/home/kuki/Desktop/novo/active_set/Train/ANN_stack/3067mask.npy'",
     "output_type": "error",
     "traceback": [
      "\u001B[0;31m---------------------------------------------------------------------------\u001B[0m",
      "\u001B[0;31mFileNotFoundError\u001B[0m                         Traceback (most recent call last)",
      "\u001B[0;32m<ipython-input-15-5b2937be5dbf>\u001B[0m in \u001B[0;36m<module>\u001B[0;34m\u001B[0m\n\u001B[1;32m      1\u001B[0m \u001B[0;32mimport\u001B[0m \u001B[0mnumpy\u001B[0m \u001B[0;32mas\u001B[0m \u001B[0mnp\u001B[0m\u001B[0;34m\u001B[0m\u001B[0;34m\u001B[0m\u001B[0m\n\u001B[0;32m----> 2\u001B[0;31m \u001B[0masd\u001B[0m\u001B[0;34m=\u001B[0m\u001B[0mnp\u001B[0m\u001B[0;34m.\u001B[0m\u001B[0mload\u001B[0m\u001B[0;34m(\u001B[0m\u001B[0;34m'/home/kuki/Desktop/novo/active_set/Train/ANN_stack/3067mask.npy'\u001B[0m\u001B[0;34m)\u001B[0m\u001B[0;34m\u001B[0m\u001B[0;34m\u001B[0m\u001B[0m\n\u001B[0m",
      "\u001B[0;32m~/anaconda3/envs/TF112/lib/python3.6/site-packages/numpy/lib/npyio.py\u001B[0m in \u001B[0;36mload\u001B[0;34m(file, mmap_mode, allow_pickle, fix_imports, encoding)\u001B[0m\n\u001B[1;32m    426\u001B[0m         \u001B[0mown_fid\u001B[0m \u001B[0;34m=\u001B[0m \u001B[0;32mFalse\u001B[0m\u001B[0;34m\u001B[0m\u001B[0;34m\u001B[0m\u001B[0m\n\u001B[1;32m    427\u001B[0m     \u001B[0;32melse\u001B[0m\u001B[0;34m:\u001B[0m\u001B[0;34m\u001B[0m\u001B[0;34m\u001B[0m\u001B[0m\n\u001B[0;32m--> 428\u001B[0;31m         \u001B[0mfid\u001B[0m \u001B[0;34m=\u001B[0m \u001B[0mopen\u001B[0m\u001B[0;34m(\u001B[0m\u001B[0mos_fspath\u001B[0m\u001B[0;34m(\u001B[0m\u001B[0mfile\u001B[0m\u001B[0;34m)\u001B[0m\u001B[0;34m,\u001B[0m \u001B[0;34m\"rb\"\u001B[0m\u001B[0;34m)\u001B[0m\u001B[0;34m\u001B[0m\u001B[0;34m\u001B[0m\u001B[0m\n\u001B[0m\u001B[1;32m    429\u001B[0m         \u001B[0mown_fid\u001B[0m \u001B[0;34m=\u001B[0m \u001B[0;32mTrue\u001B[0m\u001B[0;34m\u001B[0m\u001B[0;34m\u001B[0m\u001B[0m\n\u001B[1;32m    430\u001B[0m \u001B[0;34m\u001B[0m\u001B[0m\n",
      "\u001B[0;31mFileNotFoundError\u001B[0m: [Errno 2] No such file or directory: '/home/kuki/Desktop/novo/active_set/Train/ANN_stack/3067mask.npy'"
     ]
    }
   ],
   "source": [
    "import numpy as np\n",
    "asd=np.load('/home/kuki/Desktop/novo/active_set/Train/ANN_stack/3067mask.npy')"
   ],
   "metadata": {
    "collapsed": false,
    "pycharm": {
     "name": "#%%\n"
    }
   }
  }
 ],
 "metadata": {
  "kernelspec": {
   "display_name": "Python 3",
   "language": "python",
   "name": "python3"
  },
  "language_info": {
   "codemirror_mode": {
    "name": "ipython",
    "version": 2
   },
   "file_extension": ".py",
   "mimetype": "text/x-python",
   "name": "python",
   "nbconvert_exporter": "python",
   "pygments_lexer": "ipython2",
   "version": "2.7.6"
  }
 },
 "nbformat": 4,
 "nbformat_minor": 0
}